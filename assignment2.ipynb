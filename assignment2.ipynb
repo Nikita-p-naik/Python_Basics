{
 "cells": [
  {
   "cell_type": "markdown",
   "id": "9531f252-f843-45d1-a186-b292b0181ff7",
   "metadata": {},
   "source": [
    "Q1. How do you comment code in Python? What are the different types of comments?"
   ]
  },
  {
   "cell_type": "code",
   "execution_count": 2,
   "id": "d1b8791a-1525-451d-90a1-d7542d6dcde6",
   "metadata": {},
   "outputs": [
    {
     "name": "stdout",
     "output_type": "stream",
     "text": [
      "hi\n"
     ]
    }
   ],
   "source": [
    "# print (\"hello world\")\n",
    "print(\"hi\")"
   ]
  },
  {
   "cell_type": "markdown",
   "id": "2f4d9b56-db51-4024-b763-c4bdb150a72f",
   "metadata": {},
   "source": [
    "Types of comments"
   ]
  },
  {
   "cell_type": "raw",
   "id": "e67a33a5-45c2-4885-b038-abba85bf5b0b",
   "metadata": {},
   "source": [
    "Single line comment : # \n",
    "multiline comments : \"\"\"hi\n",
    "                    hello\n",
    "                    nikita\n",
    "                   this\n",
    "                   side\n",
    "                   \"\"\"\n",
    "Docstring :''' hi this is comment'''"
   ]
  },
  {
   "cell_type": "markdown",
   "id": "8be017eb-3b45-4ee3-a2b5-1a4b38c1de03",
   "metadata": {},
   "source": [
    "Q2. What are variables in Python? How do you declare and assign values to variables?\n",
    "A: variables are those which stores values of an object for eg: a=2, a is variable storing 2 as its value."
   ]
  },
  {
   "cell_type": "raw",
   "id": "1b7c5899-f331-4ac5-a8d1-273e7e0cb2a3",
   "metadata": {},
   "source": [
    "Decalring Variable\n",
    " str name\n",
    "\n",
    "Assigning variable\n",
    "name='Nikita'"
   ]
  },
  {
   "cell_type": "markdown",
   "id": "6b827cc2-a613-4188-acc9-35a17d90a7ae",
   "metadata": {},
   "source": [
    "Q3. How do you convert one data type to another in Python?"
   ]
  },
  {
   "cell_type": "code",
   "execution_count": 6,
   "id": "c4b22d31-2480-42af-b38a-4b345662ccf4",
   "metadata": {},
   "outputs": [
    {
     "data": {
      "text/plain": [
       "int"
      ]
     },
     "execution_count": 6,
     "metadata": {},
     "output_type": "execute_result"
    }
   ],
   "source": [
    "a= 1\n",
    "type(a)"
   ]
  },
  {
   "cell_type": "code",
   "execution_count": 10,
   "id": "1ad148f9-8534-4f24-ba80-b1a9d25713cb",
   "metadata": {},
   "outputs": [
    {
     "data": {
      "text/plain": [
       "str"
      ]
     },
     "execution_count": 10,
     "metadata": {},
     "output_type": "execute_result"
    }
   ],
   "source": [
    "s=str(a)\n",
    "type(s)"
   ]
  },
  {
   "cell_type": "code",
   "execution_count": 9,
   "id": "7e4a371e-2a1c-4139-b375-8bc4020e1cb4",
   "metadata": {},
   "outputs": [
    {
     "data": {
      "text/plain": [
       "int"
      ]
     },
     "execution_count": 9,
     "metadata": {},
     "output_type": "execute_result"
    }
   ],
   "source": [
    "type(a)"
   ]
  },
  {
   "cell_type": "markdown",
   "id": "669ed6e7-f788-4d0e-8448-a58f72485341",
   "metadata": {},
   "source": [
    "Q4. How do you write and execute a Python script from the command line?\n",
    "c:\\python3>python_test.py"
   ]
  },
  {
   "cell_type": "markdown",
   "id": "c8d56305-6737-4802-9029-690c6bd76e35",
   "metadata": {},
   "source": [
    "Q5. Given a list my_list = [1, 2, 3, 4, 5], write the code to slice the list and obtain the sub-list [2, 3]."
   ]
  },
  {
   "cell_type": "code",
   "execution_count": 5,
   "id": "c5bbbcae-fff2-4269-ba16-409f9903f9dd",
   "metadata": {},
   "outputs": [
    {
     "data": {
      "text/plain": [
       "[2, 3]"
      ]
     },
     "execution_count": 5,
     "metadata": {},
     "output_type": "execute_result"
    }
   ],
   "source": [
    "my_list=[1,2,3,4,5]\n",
    "sub_list=my_list[1:3]\n",
    "sub_list"
   ]
  },
  {
   "cell_type": "markdown",
   "id": "c30c9d76-d048-4645-811a-5635b3cb3d1f",
   "metadata": {},
   "source": [
    "Q6. What is a complex number in mathematics, and how is it represented in Python?\n",
    "Complex number- in mathematics it is represnted by a+bi here a,b are real numbers but i is imaginary part of that number.\n",
    "\n",
    "In Python  x=a+bi"
   ]
  },
  {
   "cell_type": "markdown",
   "id": "e03f8264-f447-4c6b-9a51-37e8f5f12dcf",
   "metadata": {},
   "source": [
    "Q7. What is the correct way to declare a variable named age and assign the value 25 to it?"
   ]
  },
  {
   "cell_type": "code",
   "execution_count": 2,
   "id": "cdb65f86-fcdb-4b5b-9290-0998180c0bc5",
   "metadata": {},
   "outputs": [
    {
     "name": "stdout",
     "output_type": "stream",
     "text": [
      "25\n"
     ]
    }
   ],
   "source": [
    "age=25\n",
    "print(age)"
   ]
  },
  {
   "cell_type": "markdown",
   "id": "986af699-1e18-450d-8b17-33a8e654ec22",
   "metadata": {},
   "source": [
    "Q8. Declare a variable named price and assign the value 9.99 to it. What data type does this variable\n",
    "belong to?"
   ]
  },
  {
   "cell_type": "code",
   "execution_count": 4,
   "id": "7ffc2aa3-22ec-4509-949f-346d61c3921f",
   "metadata": {},
   "outputs": [
    {
     "name": "stdout",
     "output_type": "stream",
     "text": [
      "9.99\n"
     ]
    }
   ],
   "source": [
    "price=9.99\n",
    "print(price)"
   ]
  },
  {
   "cell_type": "code",
   "execution_count": 5,
   "id": "6ada3fd1-2653-41be-a705-4f1a40943f9b",
   "metadata": {},
   "outputs": [
    {
     "data": {
      "text/plain": [
       "float"
      ]
     },
     "execution_count": 5,
     "metadata": {},
     "output_type": "execute_result"
    }
   ],
   "source": [
    "type(price)"
   ]
  },
  {
   "cell_type": "markdown",
   "id": "12f2082a-c093-4a8e-a3f6-0763e0d31e62",
   "metadata": {},
   "source": [
    "Q9. Create a variable named name and assign your full name to it as a string. How would you print the\n",
    "value of this variable?"
   ]
  },
  {
   "cell_type": "code",
   "execution_count": 7,
   "id": "b3df80c2-a8f4-4aa5-b17b-3e4d94a7ee41",
   "metadata": {},
   "outputs": [
    {
     "name": "stdout",
     "output_type": "stream",
     "text": [
      "Nikita Naik\n"
     ]
    }
   ],
   "source": [
    "name='Nikita Naik'\n",
    "print(name)"
   ]
  },
  {
   "cell_type": "code",
   "execution_count": 8,
   "id": "3cebd95a-17a4-4c39-aa37-a0279b2c1bad",
   "metadata": {},
   "outputs": [
    {
     "data": {
      "text/plain": [
       "'Nikita Naik'"
      ]
     },
     "execution_count": 8,
     "metadata": {},
     "output_type": "execute_result"
    }
   ],
   "source": [
    "name"
   ]
  },
  {
   "cell_type": "code",
   "execution_count": 11,
   "id": "b1d148b3-cd80-4550-b3fb-e9c7b7a39fd0",
   "metadata": {},
   "outputs": [
    {
     "name": "stdout",
     "output_type": "stream",
     "text": [
      "my name is : Nikita Naik\n"
     ]
    }
   ],
   "source": [
    "print(\"my name is :\",name)"
   ]
  },
  {
   "cell_type": "markdown",
   "id": "63173338-4b99-45bd-9fc7-40e3c4f3e638",
   "metadata": {},
   "source": [
    "Q10. Given the string \"Hello, World!\", extract the substring \"World\"."
   ]
  },
  {
   "cell_type": "code",
   "execution_count": 14,
   "id": "efad822c-64be-400c-b798-ca904b6d01bd",
   "metadata": {},
   "outputs": [
    {
     "data": {
      "text/plain": [
       "'World'"
      ]
     },
     "execution_count": 14,
     "metadata": {},
     "output_type": "execute_result"
    }
   ],
   "source": [
    "string='Hello,World!'\n",
    "sub_str=string[6:11]\n",
    "sub_str"
   ]
  },
  {
   "cell_type": "markdown",
   "id": "3bf32664-3b53-404c-965f-d40150824cb3",
   "metadata": {},
   "source": [
    "Q11. Create a variable named \"is_student\" and assign it a boolean value indicating whether you are\n",
    "currently a student or not."
   ]
  },
  {
   "cell_type": "code",
   "execution_count": 16,
   "id": "35ad7994-629d-4ff9-90c0-66289a94bd64",
   "metadata": {},
   "outputs": [
    {
     "data": {
      "text/plain": [
       "True"
      ]
     },
     "execution_count": 16,
     "metadata": {},
     "output_type": "execute_result"
    }
   ],
   "source": [
    "is_student=True\n",
    "is_student"
   ]
  },
  {
   "cell_type": "code",
   "execution_count": 17,
   "id": "b0434184-5a36-4a9b-ab89-fb75019410ed",
   "metadata": {},
   "outputs": [
    {
     "data": {
      "text/plain": [
       "False"
      ]
     },
     "execution_count": 17,
     "metadata": {},
     "output_type": "execute_result"
    }
   ],
   "source": [
    "is_student=False\n",
    "is_student"
   ]
  },
  {
   "cell_type": "code",
   "execution_count": null,
   "id": "2eee271c-2302-405e-9af5-6c77a5721884",
   "metadata": {},
   "outputs": [],
   "source": []
  }
 ],
 "metadata": {
  "kernelspec": {
   "display_name": "Python 3 (ipykernel)",
   "language": "python",
   "name": "python3"
  },
  "language_info": {
   "codemirror_mode": {
    "name": "ipython",
    "version": 3
   },
   "file_extension": ".py",
   "mimetype": "text/x-python",
   "name": "python",
   "nbconvert_exporter": "python",
   "pygments_lexer": "ipython3",
   "version": "3.10.8"
  }
 },
 "nbformat": 4,
 "nbformat_minor": 5
}
