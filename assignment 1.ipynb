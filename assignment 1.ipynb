{
 "cells": [
  {
   "cell_type": "markdown",
   "id": "2b759f9d",
   "metadata": {},
   "source": [
    "Q1. Create one variable containing following type of data:\n",
    "(i) string\n",
    "(ii) list\n",
    "(iii) float\n",
    "(iv) tuple"
   ]
  },
  {
   "cell_type": "code",
   "execution_count": 6,
   "id": "2ed7479c",
   "metadata": {},
   "outputs": [
    {
     "name": "stdout",
     "output_type": "stream",
     "text": [
      "string is: Nikita\n",
      "list is: [1, 2, 'NIKI', 4]\n",
      "float is: 3.12\n",
      "tuple is: (1, 2, 'niki', 5)\n"
     ]
    }
   ],
   "source": [
    "string='Nikita'\n",
    "lst=[1,2,'NIKI',4]\n",
    "flot=3.12\n",
    "tupl=(1,2,'niki',5)\n",
    "print(\"string is:\",string)\n",
    "print(\"list is:\",lst)\n",
    "print(\"float is:\",flot)\n",
    "print(\"tuple is:\",tupl)"
   ]
  },
  {
   "cell_type": "markdown",
   "id": "c198b224",
   "metadata": {},
   "source": [
    "Q2. Given are some following variables containing data:\n",
    "(i) var1 = ‘ ‘\n",
    "(ii) var2 = ‘[ DS , ML , Python]’\n",
    "(iii) var3 = [ ‘DS’ , ’ML’ , ‘Python’ ]\n",
    "(iv) var4 = 1.\n",
    "What will be the data type of the above given variable."
   ]
  },
  {
   "cell_type": "code",
   "execution_count": 19,
   "id": "506cb86f",
   "metadata": {},
   "outputs": [
    {
     "name": "stdout",
     "output_type": "stream",
     "text": [
      "Datatype of var1 is <class 'str'>\n",
      "Datatype of var2 is <class 'str'>\n",
      "Datatype of var3 is <class 'list'>\n",
      "Datatype of var4 is <class 'int'>\n"
     ]
    }
   ],
   "source": [
    "var1 = ' '\n",
    "var2 = '[DS , ML , Python]'\n",
    "var3 = [ 'DS' , 'ML' , 'Python']\n",
    "var4 = 1\n",
    "print(\"Datatype of var1 is\",type(var1))\n",
    "print(\"Datatype of var2 is\",type(var2))\n",
    "print(\"Datatype of var3 is\",type(var3))\n",
    "print(\"Datatype of var4 is\",type(var4))"
   ]
  },
  {
   "cell_type": "markdown",
   "id": "5d16dbf2",
   "metadata": {},
   "source": [
    "Q3. Explain the use of the following operators using an example:\n",
    "(i) /\n",
    "(ii) %\n",
    "(iii) //\n",
    "(iv) **"
   ]
  },
  {
   "cell_type": "markdown",
   "id": "a97d88be",
   "metadata": {},
   "source": [
    "(i) / : divisor operator -used for division.\n",
    "(ii) % : modulo operator -gives remainder of division.\n",
    "(iii) // : floor divisor - gives round down value after division for eg(ans-2.33 so it will give ans- 2).\n",
    "(iv) ** : exponential operator - left value raised power to right "
   ]
  },
  {
   "cell_type": "markdown",
   "id": "c56605a0",
   "metadata": {},
   "source": [
    "Q4. Create a list of length 10 of your choice containing multiple types of data. Using for loop print the\n",
    "element and its data type."
   ]
  },
  {
   "cell_type": "code",
   "execution_count": 20,
   "id": "8b31bf3d",
   "metadata": {},
   "outputs": [
    {
     "name": "stdout",
     "output_type": "stream",
     "text": [
      "datatype of value is <class 'int'>\n",
      "datatype of value is <class 'str'>\n",
      "datatype of value is <class 'str'>\n",
      "datatype of value is <class 'float'>\n",
      "datatype of value is <class 'bool'>\n",
      "datatype of value is <class 'tuple'>\n",
      "datatype of value is <class 'set'>\n",
      "datatype of value is <class 'int'>\n",
      "datatype of value is <class 'str'>\n",
      "datatype of value is <class 'float'>\n"
     ]
    }
   ],
   "source": [
    "lst=[1,'niki','$',3.14,True,(5,6,7),{1,3,4},10,'doller',2.33]\n",
    "for i in lst:\n",
    "    print('datatype of value is',type(i))"
   ]
  },
  {
   "cell_type": "markdown",
   "id": "984f9b3f",
   "metadata": {},
   "source": [
    "Q5. Using a while loop, verify if the number A is purely divisible by number B and if so then how many\n",
    "times it can be divisible."
   ]
  },
  {
   "cell_type": "code",
   "execution_count": 23,
   "id": "705750f7",
   "metadata": {},
   "outputs": [
    {
     "name": "stdout",
     "output_type": "stream",
     "text": [
      "enter value 149\n",
      "enter value 27\n",
      "number divisible by2 times\n"
     ]
    }
   ],
   "source": [
    "a=int(input('enter value 1'))\n",
    "b=int(input('enter value 2'))\n",
    "count=0\n",
    "while a%b==0:\n",
    "    a=a/b\n",
    "    count +=1\n",
    "    \n",
    "if count>0:\n",
    "    print(f\"number divisible by{count} times\")\n",
    "else:\n",
    "    print('not divisible')"
   ]
  },
  {
   "cell_type": "markdown",
   "id": "e02e87f1",
   "metadata": {},
   "source": [
    "Q6. Create a list containing 25 int type data. Using for loop and if-else condition print if the element is\n",
    "divisible by 3 or not."
   ]
  },
  {
   "cell_type": "code",
   "execution_count": 4,
   "id": "44d803e9",
   "metadata": {},
   "outputs": [
    {
     "name": "stdout",
     "output_type": "stream",
     "text": [
      "1 is not divisible by 3\n",
      "2 is not divisible by 3\n",
      "3 is divisible by 3\n",
      "4 is not divisible by 3\n",
      "5 is not divisible by 3\n",
      "6 is divisible by 3\n",
      "7 is not divisible by 3\n",
      "27 is divisible by 3\n",
      "96 is divisible by 3\n",
      "43 is not divisible by 3\n",
      "24 is divisible by 3\n",
      "75 is divisible by 3\n",
      "90 is divisible by 3\n",
      "33 is divisible by 3\n",
      "17 is not divisible by 3\n",
      "26 is not divisible by 3\n",
      "44 is not divisible by 3\n",
      "85 is not divisible by 3\n",
      "126 is divisible by 3\n",
      "22 is not divisible by 3\n",
      "987 is divisible by 3\n",
      "543 is divisible by 3\n",
      "67 is not divisible by 3\n",
      "98 is not divisible by 3\n",
      "89 is not divisible by 3\n"
     ]
    }
   ],
   "source": [
    "lst=[1,2,3,4,5,6,7,27,96,43,24,75,90,33,17,26,44,85,126,22,987,543,67,98,89]\n",
    "for i in lst:\n",
    "    if i%3==0:\n",
    "        print(f\"{i} is divisible by 3\")\n",
    "    else:\n",
    "        print(f\"{i} is not divisible by 3\")\n",
    "    #print(i)"
   ]
  },
  {
   "cell_type": "markdown",
   "id": "c07aa1a8",
   "metadata": {},
   "source": [
    "Q7. What do you understand about mutable and immutable data types? Give examples for both showing\n",
    "this property."
   ]
  },
  {
   "cell_type": "markdown",
   "id": "dc7918d0",
   "metadata": {},
   "source": [
    "##### Mutable Data Types:\n",
    "* Mutable objects can be altered or modified after creation.\n",
    "* Changes to the object do not create a new object; the same object is modified.\n",
    "* Examples of mutable data types in Python include lists, dictionaries, and sets."
   ]
  },
  {
   "cell_type": "code",
   "execution_count": 10,
   "id": "850ccb9e",
   "metadata": {},
   "outputs": [
    {
     "name": "stdout",
     "output_type": "stream",
     "text": [
      "[1, 2, 3]\n"
     ]
    }
   ],
   "source": [
    "#### Mutable example.\n",
    "lst=[1,2,3]\n",
    "print(lst)"
   ]
  },
  {
   "cell_type": "code",
   "execution_count": 11,
   "id": "9358a062",
   "metadata": {},
   "outputs": [
    {
     "name": "stdout",
     "output_type": "stream",
     "text": [
      "[1, 4, 3]\n"
     ]
    }
   ],
   "source": [
    "lst[1]=4\n",
    "print(lst)"
   ]
  },
  {
   "cell_type": "markdown",
   "id": "5f56e8bd",
   "metadata": {},
   "source": [
    "here we can see 2nd element is changed is modifies or update existing data."
   ]
  },
  {
   "cell_type": "markdown",
   "id": "1bbccddf",
   "metadata": {},
   "source": [
    "#### Immutable Data Types:\n",
    "* Immutable objects cannot be altered or modified after creation.\n",
    "* Any operation that appears to modify an immutable object actually creates a new object.\n",
    "* Examples of immutable data types in Python include strings, tuples, and integers."
   ]
  },
  {
   "cell_type": "code",
   "execution_count": 12,
   "id": "711c1c65",
   "metadata": {},
   "outputs": [
    {
     "name": "stdout",
     "output_type": "stream",
     "text": [
      "(4, 5, 6)\n"
     ]
    }
   ],
   "source": [
    "lst=(4,5,6)\n",
    "print(lst)"
   ]
  },
  {
   "cell_type": "code",
   "execution_count": 13,
   "id": "969d915c",
   "metadata": {},
   "outputs": [
    {
     "ename": "TypeError",
     "evalue": "'tuple' object does not support item assignment",
     "output_type": "error",
     "traceback": [
      "\u001b[1;31m---------------------------------------------------------------------------\u001b[0m",
      "\u001b[1;31mTypeError\u001b[0m                                 Traceback (most recent call last)",
      "Cell \u001b[1;32mIn[13], line 1\u001b[0m\n\u001b[1;32m----> 1\u001b[0m lst[\u001b[38;5;241m2\u001b[39m]\u001b[38;5;241m=\u001b[39m\u001b[38;5;241m10\u001b[39m\n\u001b[0;32m      2\u001b[0m \u001b[38;5;28mprint\u001b[39m(lst)\n",
      "\u001b[1;31mTypeError\u001b[0m: 'tuple' object does not support item assignment"
     ]
    }
   ],
   "source": [
    "lst[2]=10\n",
    "print(lst)"
   ]
  },
  {
   "cell_type": "markdown",
   "id": "bf7a6610",
   "metadata": {},
   "source": [
    "Here we are getting error because i can not change the existing data in tuple whoch is immutable datatype."
   ]
  },
  {
   "cell_type": "code",
   "execution_count": null,
   "id": "27a9e007",
   "metadata": {},
   "outputs": [],
   "source": []
  }
 ],
 "metadata": {
  "kernelspec": {
   "display_name": "Python 3 (ipykernel)",
   "language": "python",
   "name": "python3"
  },
  "language_info": {
   "codemirror_mode": {
    "name": "ipython",
    "version": 3
   },
   "file_extension": ".py",
   "mimetype": "text/x-python",
   "name": "python",
   "nbconvert_exporter": "python",
   "pygments_lexer": "ipython3",
   "version": "3.10.9"
  }
 },
 "nbformat": 4,
 "nbformat_minor": 5
}
