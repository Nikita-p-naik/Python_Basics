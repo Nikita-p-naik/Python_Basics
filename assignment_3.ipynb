{
  "nbformat": 4,
  "nbformat_minor": 0,
  "metadata": {
    "colab": {
      "provenance": [],
      "authorship_tag": "ABX9TyNupsxx90XKzkckMLZYAwSd",
      "include_colab_link": true
    },
    "kernelspec": {
      "name": "python3",
      "display_name": "Python 3"
    },
    "language_info": {
      "name": "python"
    }
  },
  "cells": [
    {
      "cell_type": "markdown",
      "metadata": {
        "id": "view-in-github",
        "colab_type": "text"
      },
      "source": [
        "<a href=\"https://colab.research.google.com/github/Nikita-p-naik/Python_Basics/blob/main/assignment_3.ipynb\" target=\"_parent\"><img src=\"https://colab.research.google.com/assets/colab-badge.svg\" alt=\"Open In Colab\"/></a>"
      ]
    },
    {
      "cell_type": "markdown",
      "source": [
        "Q1. Which keyword is used to create a function? Create a function to return a list of odd numbers in the\n",
        "range of 1 to 25."
      ],
      "metadata": {
        "id": "jNeruxrGGCYC"
      }
    },
    {
      "cell_type": "markdown",
      "source": [
        "def keyword is used to create function."
      ],
      "metadata": {
        "id": "IRoZR6gcGe03"
      }
    },
    {
      "cell_type": "code",
      "execution_count": null,
      "metadata": {
        "id": "fylRTs8ETepO"
      },
      "outputs": [],
      "source": [
        "#Create a function to return a list of odd numbers in the range of 1 to 25.\n",
        "def odd_lst(n):\n",
        "  lst=[]\n",
        "  for i in n:\n",
        "    if i%2!=0:\n",
        "      lst.append(i)\n",
        "  return lst"
      ]
    },
    {
      "cell_type": "code",
      "source": [
        "l=[1,2,3,4,5,6,7,8,9,10,11,12,13,14,15,16,17,18,19,20,21,22,23,24,25]"
      ],
      "metadata": {
        "id": "-_CzRKsxWkCr"
      },
      "execution_count": null,
      "outputs": []
    },
    {
      "cell_type": "code",
      "source": [
        "odd_lst(l)"
      ],
      "metadata": {
        "colab": {
          "base_uri": "https://localhost:8080/"
        },
        "id": "oTmXT-NAJ0a7",
        "outputId": "cd6d8eac-b401-4506-d512-595af6ba3298"
      },
      "execution_count": null,
      "outputs": [
        {
          "output_type": "execute_result",
          "data": {
            "text/plain": [
              "[1, 3, 5, 7, 9, 11, 13, 15, 17, 19, 21, 23, 25]"
            ]
          },
          "metadata": {},
          "execution_count": 16
        }
      ]
    },
    {
      "cell_type": "code",
      "source": [
        "#using list comprehension.\n",
        "def odd_lst(n):\n",
        "    return [i for i in range(1, n + 1) if i % 2 != 0]\n",
        "\n",
        "odd_lst(25)"
      ],
      "metadata": {
        "id": "X2i-AP64Wn4v",
        "colab": {
          "base_uri": "https://localhost:8080/"
        },
        "outputId": "7c00ef87-1e3c-465d-c950-78ebd3501355"
      },
      "execution_count": null,
      "outputs": [
        {
          "output_type": "execute_result",
          "data": {
            "text/plain": [
              "[1, 3, 5, 7, 9, 11, 13, 15, 17, 19, 21, 23, 25]"
            ]
          },
          "metadata": {},
          "execution_count": 5
        }
      ]
    },
    {
      "cell_type": "markdown",
      "source": [
        "Q2. Why *args and **kwargs is used in some functions? Create a function each for *args and **kwargs to\n",
        "demonstrate their use.\n",
        "\n",
        "**args -** Allows to pass a variable number of arguments to a function. It doesn't restrict the number of values or parameters you can pass, collecting them as a tuple.\n",
        "\n",
        "**kwargs -**  Stands for \"keyword arguments.\" It allows to pass a variable number of named arguments (key-value pairs) to a function, collecting them as a dictionary."
      ],
      "metadata": {
        "id": "c6btPkxfJ-BM"
      }
    },
    {
      "cell_type": "code",
      "source": [
        "#Create a function each for args and *kwargs to demonstrate their use.\n",
        "def sum_num(*args):\n",
        "  n=sum(args)\n",
        "  return n"
      ],
      "metadata": {
        "id": "mfYBdx6xIxTO"
      },
      "execution_count": null,
      "outputs": []
    },
    {
      "cell_type": "code",
      "source": [
        "sum_num(1,2,3,4,5,6,7,8)"
      ],
      "metadata": {
        "colab": {
          "base_uri": "https://localhost:8080/"
        },
        "id": "Ibf0mx7wQ2zO",
        "outputId": "3f558041-663c-4a7f-adcb-a09fc5b57560"
      },
      "execution_count": null,
      "outputs": [
        {
          "output_type": "execute_result",
          "data": {
            "text/plain": [
              "36"
            ]
          },
          "metadata": {},
          "execution_count": 22
        }
      ]
    },
    {
      "cell_type": "code",
      "source": [
        "def nam_post(**kwargs):\n",
        "  for key,value in kwargs.items():\n",
        "    return kwargs"
      ],
      "metadata": {
        "id": "61JtL8UWNBvm"
      },
      "execution_count": null,
      "outputs": []
    },
    {
      "cell_type": "code",
      "source": [
        "nam_post(name='niki',post='data scientist',salary='60 lpa')"
      ],
      "metadata": {
        "colab": {
          "base_uri": "https://localhost:8080/"
        },
        "id": "8jltYkKrPhU9",
        "outputId": "022adbfa-8aca-456c-8c46-d35bcb847cf2"
      },
      "execution_count": null,
      "outputs": [
        {
          "output_type": "execute_result",
          "data": {
            "text/plain": [
              "{'name': 'niki', 'post': 'data scientist', 'salary': '60 lpa'}"
            ]
          },
          "metadata": {},
          "execution_count": 26
        }
      ]
    },
    {
      "cell_type": "markdown",
      "source": [
        "Q3. What is an iterator in python? Name the method used to initialise the iterator object and the method\n",
        "used for iteration. Use these methods to print the first five elements of the given list [2, 4, 6, 8, 10, 12, 14, 16,\n",
        "18, 20]."
      ],
      "metadata": {
        "id": "lzboBPlEUEMz"
      }
    },
    {
      "cell_type": "markdown",
      "source": [
        "**Iterator** -is an object that allows you to traverse through all the elements of a collection (like a list or tuple) one element at a time.\n",
        "\n",
        "An object becomes an iterator when it implements two methods:\n",
        "\n",
        "**iter()**: Initializes the iterator object and returns it.\n",
        "\n",
        "**next()**: Returns the next element in the sequence. When the elements are exhausted, it raises a StopIteration exception."
      ],
      "metadata": {
        "id": "MjVvwiUEUcgI"
      }
    },
    {
      "cell_type": "code",
      "source": [
        "#print the first five elements of the given list:\n",
        "lst1 = [2, 4, 6, 8, 10, 12, 14, 16, 18, 20]\n",
        "iterator = iter(lst1)\n",
        "for i in range(5):\n",
        "    element = next(iterator)\n",
        "    print (element)"
      ],
      "metadata": {
        "colab": {
          "base_uri": "https://localhost:8080/"
        },
        "id": "iMpS7BO-R8Ei",
        "outputId": "ba741632-79f1-4a80-935e-4fd0d2261afb"
      },
      "execution_count": null,
      "outputs": [
        {
          "output_type": "stream",
          "name": "stdout",
          "text": [
            "2\n",
            "4\n",
            "6\n",
            "8\n",
            "10\n"
          ]
        }
      ]
    },
    {
      "cell_type": "markdown",
      "source": [
        "Q4. What is a generator function in python? Why yield keyword is used? Give an example of a generator function."
      ],
      "metadata": {
        "id": "wBuA_o89Zx9v"
      }
    },
    {
      "cell_type": "markdown",
      "source": [
        "**Generator -** a special type of function that returns an iterator, which we can iterate through one value at a time. Instead of using return, a generator function uses the **yield** keyword to produce a sequence of values, meaning it generates values on the fly rather than storing them in memory.\n",
        "\n",
        "**why yield**\n",
        "1. Memory efficiency: Since values are generated one at a time, it saves memory.\n",
        "2. State preservation: It pauses the function execution at the yield statement and resumes from that point on the next call."
      ],
      "metadata": {
        "id": "TDVJA4cgxQN9"
      }
    },
    {
      "cell_type": "code",
      "source": [
        "def test_fib(n):\n",
        "  a,b=0,1\n",
        "  for i in range(n):\n",
        "    yield a\n",
        "    a,b=b,a+b"
      ],
      "metadata": {
        "id": "j3tG68HGZVCX"
      },
      "execution_count": 1,
      "outputs": []
    },
    {
      "cell_type": "code",
      "source": [
        "for i in test_fib(5):\n",
        "  print(i)"
      ],
      "metadata": {
        "colab": {
          "base_uri": "https://localhost:8080/"
        },
        "id": "I2mK9m1yyLaG",
        "outputId": "5a8b9bf6-6c4e-4d8d-8685-d40a80e5e113"
      },
      "execution_count": 3,
      "outputs": [
        {
          "output_type": "stream",
          "name": "stdout",
          "text": [
            "0\n",
            "1\n",
            "1\n",
            "2\n",
            "3\n"
          ]
        }
      ]
    },
    {
      "cell_type": "markdown",
      "source": [
        "Q5. Create a generator function for prime numbers less than 1000. Use the next() method to print the first 20 prime numbers."
      ],
      "metadata": {
        "id": "RqKZueCkyf1r"
      }
    },
    {
      "cell_type": "code",
      "source": [
        "def prime_num():\n",
        "  for i in range(2,1000):\n",
        "    if all(i%j!=0 for j in range(2,int(i**0.5)+1)):\n",
        "      yield i\n",
        "\n",
        "prime_gen = prime_num()\n",
        "\n",
        "for i in range(20):\n",
        "    print(next(prime_gen))"
      ],
      "metadata": {
        "colab": {
          "base_uri": "https://localhost:8080/"
        },
        "id": "qwar1Az0yTrZ",
        "outputId": "31f1a259-e4b5-49af-f32b-7569b0447383"
      },
      "execution_count": 6,
      "outputs": [
        {
          "output_type": "stream",
          "name": "stdout",
          "text": [
            "2\n",
            "3\n",
            "5\n",
            "7\n",
            "11\n",
            "13\n",
            "17\n",
            "19\n",
            "23\n",
            "29\n",
            "31\n",
            "37\n",
            "41\n",
            "43\n",
            "47\n",
            "53\n",
            "59\n",
            "61\n",
            "67\n",
            "71\n"
          ]
        }
      ]
    },
    {
      "cell_type": "code",
      "source": [],
      "metadata": {
        "id": "YiJET2mj5xCv"
      },
      "execution_count": null,
      "outputs": []
    }
  ]
}