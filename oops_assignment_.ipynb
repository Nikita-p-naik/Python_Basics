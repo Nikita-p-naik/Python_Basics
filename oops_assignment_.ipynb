{
  "nbformat": 4,
  "nbformat_minor": 0,
  "metadata": {
    "colab": {
      "provenance": []
    },
    "kernelspec": {
      "name": "python3",
      "display_name": "Python 3"
    },
    "language_info": {
      "name": "python"
    }
  },
  "cells": [
    {
      "cell_type": "markdown",
      "source": [
        "Q1. Explain Class and Object with respect to Object-Oriented Programming. Give a suitable example?"
      ],
      "metadata": {
        "id": "53wRwDZmjrbT"
      }
    },
    {
      "cell_type": "markdown",
      "source": [
        "**Class:** A class is a blueprint or template for creating objects. It defines the structure and behavior (data and functions) that the created objects will have.\n",
        "\n",
        "**Object:** An object is an instance of a class. It represents a specific implementation of the class with actual values.\n"
      ],
      "metadata": {
        "id": "5pu43uGvkHTx"
      }
    },
    {
      "cell_type": "code",
      "source": [
        "class Car:\n",
        "    def __init__(self, brand, color,category):\n",
        "        self.brand = brand\n",
        "        self.color = color\n",
        "        self.category = category\n",
        "\n",
        "    def drive(self):\n",
        "        print(f\"The {self.color} {self.brand} {self.category} is driving.\")\n",
        "\n",
        "# Creating an object\n",
        "my_car = Car(\"KIA\", \"Black\",\"Sedan\")\n",
        "my_car.drive()"
      ],
      "metadata": {
        "colab": {
          "base_uri": "https://localhost:8080/"
        },
        "id": "pS5rL1d5kFZz",
        "outputId": "c5078102-f302-43fb-fe0f-c36af5df0974"
      },
      "execution_count": 2,
      "outputs": [
        {
          "output_type": "stream",
          "name": "stdout",
          "text": [
            "The Black KIA Sedan is driving.\n"
          ]
        }
      ]
    },
    {
      "cell_type": "markdown",
      "source": [
        "Q2. Name the four pillars of OOPs?"
      ],
      "metadata": {
        "id": "EiRuFcNMlFiy"
      }
    },
    {
      "cell_type": "markdown",
      "source": [
        "**Encapsulation** - Wrapping data and methods that operate on the data within a single unit (class).\n",
        "\n",
        "**Abstraction** - Hiding internal details and showing only the functionality.\n",
        "\n",
        "**Inheritance** - Acquiring the properties and behavior of a parent class in a child class.\n",
        "\n",
        "**Polymorphism** - Taking many forms; the same function name can be used for different types."
      ],
      "metadata": {
        "id": "ZmaRVsZ2lKTr"
      }
    },
    {
      "cell_type": "markdown",
      "source": [
        "Q3. Explain why the __init__() function is used. Give a suitable example?"
      ],
      "metadata": {
        "id": "0KsJIw2YlnE6"
      }
    },
    {
      "cell_type": "markdown",
      "source": [
        "The __init__() method is a constructor in Python. It is automatically called when a new object of a class is created.It initializes the object’s attributes with the values passed during object creation."
      ],
      "metadata": {
        "id": "74rcm6B_l6QV"
      }
    },
    {
      "cell_type": "code",
      "source": [
        "class Student:\n",
        "    def __init__(self,name,age,gender):\n",
        "        self.name = name\n",
        "        self.age = age\n",
        "        self.gender = gender\n",
        "\n",
        "    def show_info(self):\n",
        "        print(f\"Name: {self.name}, Age: {self.age}, Gender:{self.gender}\")\n",
        "\n",
        "s1 = Student(\"Nikita\", 24,\"F\")\n",
        "s1.show_info()"
      ],
      "metadata": {
        "colab": {
          "base_uri": "https://localhost:8080/"
        },
        "id": "hh694Fgul1M-",
        "outputId": "fbc6a87d-082f-41ab-a75c-942ec582d390"
      },
      "execution_count": 3,
      "outputs": [
        {
          "output_type": "stream",
          "name": "stdout",
          "text": [
            "Name: Nikita, Age: 24, Gender:F\n"
          ]
        }
      ]
    },
    {
      "cell_type": "markdown",
      "source": [
        "Q4. Why self is used in OOPs?"
      ],
      "metadata": {
        "id": "yg_-N0KEmUtH"
      }
    },
    {
      "cell_type": "markdown",
      "source": [
        "self refers to the current instance of the class.It is used to access variables and methods belonging to the current object.It must be the first parameter of instance methods."
      ],
      "metadata": {
        "id": "Mzxk4eOfmjm6"
      }
    },
    {
      "cell_type": "code",
      "source": [
        "class Dog:\n",
        "    def __init__(self, name):\n",
        "        self.name = name\n",
        "\n",
        "    def bark(self):\n",
        "        print(f\"{self.name} is barking!\")\n",
        "\n",
        "d = Dog(\"Bruno\")\n",
        "d.bark()"
      ],
      "metadata": {
        "colab": {
          "base_uri": "https://localhost:8080/"
        },
        "id": "kbZA3dOVmbD8",
        "outputId": "af49dff9-e7a8-4ad4-cfed-035e9e2272d1"
      },
      "execution_count": 5,
      "outputs": [
        {
          "output_type": "stream",
          "name": "stdout",
          "text": [
            "Bruno is barking!\n"
          ]
        }
      ]
    },
    {
      "cell_type": "markdown",
      "source": [
        "Q5. What is inheritance? Give an example for each type of inheritance?"
      ],
      "metadata": {
        "id": "PzgdpMdBmth_"
      }
    },
    {
      "cell_type": "markdown",
      "source": [
        "Inheritance allows a class (child class) to inherit properties and methods from another class (parent class).\n",
        "\n",
        "**Types of Inheritance**\n",
        "* Single Inheritance\n",
        "* Multiple Inheritance\n",
        "* Multilevel Inheritance\n",
        "* Hierarchical Inheritance\n",
        "* Hybrid Inheritance (Combination of multiple and multilevel)"
      ],
      "metadata": {
        "id": "5rX4_rCBmx0_"
      }
    },
    {
      "cell_type": "code",
      "source": [
        "#Single Inheritance\n",
        "class Parent:\n",
        "    def show(self):\n",
        "        print(\"Parent class\")\n",
        "\n",
        "class Child(Parent):\n",
        "    pass\n",
        "\n",
        "c = Child()\n",
        "c.show()"
      ],
      "metadata": {
        "colab": {
          "base_uri": "https://localhost:8080/"
        },
        "id": "6G4bepasleuP",
        "outputId": "8e04592e-7c93-47a3-a5e6-39550079fc8c"
      },
      "execution_count": 6,
      "outputs": [
        {
          "output_type": "stream",
          "name": "stdout",
          "text": [
            "Parent class\n"
          ]
        }
      ]
    },
    {
      "cell_type": "code",
      "source": [
        "#multiple Inheritance.\n",
        "class A:\n",
        "    def displayA(self):\n",
        "        print(\"Class A\")\n",
        "class B:\n",
        "    def displayB(self):\n",
        "        print(\"Class B\")\n",
        "class C(A, B):\n",
        "    pass\n",
        "\n",
        "obj = C()\n",
        "obj.displayA()\n",
        "obj.displayB()\n"
      ],
      "metadata": {
        "colab": {
          "base_uri": "https://localhost:8080/"
        },
        "id": "ZXDzP9h4nvWK",
        "outputId": "3306be6d-2028-499e-b8d2-978fdc05cba2"
      },
      "execution_count": 11,
      "outputs": [
        {
          "output_type": "stream",
          "name": "stdout",
          "text": [
            "Class A\n",
            "Class B\n"
          ]
        }
      ]
    },
    {
      "cell_type": "code",
      "source": [
        "#multilevel Inheritance\n",
        "class Grandparent:\n",
        "    def show1(self):\n",
        "        print(\"Grandparent\")\n",
        "class Parent(Grandparent):\n",
        "    def show2(self):\n",
        "        print(\"Parent\")\n",
        "class Child(Parent):\n",
        "    def show3(self):\n",
        "        print(\"Child\")\n",
        "\n",
        "c = Child()\n",
        "c.show1()\n",
        "c.show2()\n",
        "c.show3()"
      ],
      "metadata": {
        "colab": {
          "base_uri": "https://localhost:8080/"
        },
        "id": "TwFMgCUpn1ok",
        "outputId": "1e62a05b-2ab6-4412-e72a-d340a420fa6c"
      },
      "execution_count": 12,
      "outputs": [
        {
          "output_type": "stream",
          "name": "stdout",
          "text": [
            "Grandparent\n",
            "Parent\n",
            "Child\n"
          ]
        }
      ]
    },
    {
      "cell_type": "code",
      "source": [
        "#hierarchical Inheritance\n",
        "class Parent:\n",
        "    def show(self):\n",
        "        print(\"Parent class\")\n",
        "class Child1(Parent):\n",
        "    pass\n",
        "class Child2(Parent):\n",
        "    pass\n",
        "c1 = Child1()\n",
        "c2 = Child2()\n",
        "c1.show()\n",
        "c2.show()"
      ],
      "metadata": {
        "colab": {
          "base_uri": "https://localhost:8080/"
        },
        "id": "T6PTdsr-n8UI",
        "outputId": "293fb5c4-f240-4e15-b482-44949dc26657"
      },
      "execution_count": 13,
      "outputs": [
        {
          "output_type": "stream",
          "name": "stdout",
          "text": [
            "Parent class\n",
            "Parent class\n"
          ]
        }
      ]
    },
    {
      "cell_type": "code",
      "source": [
        "#hybrid Inheritance\n",
        "class A:\n",
        "    def methodA(self):\n",
        "        print(\"A\")\n",
        "class B(A):\n",
        "    def methodB(self):\n",
        "        print(\"B\")\n",
        "class C:\n",
        "    def methodC(self):\n",
        "        print(\"C\")\n",
        "class D(B, C):\n",
        "    def methodD(self):\n",
        "        print(\"D\")\n",
        "\n",
        "obj = D()\n",
        "obj.methodA()\n",
        "obj.methodB()\n",
        "obj.methodC()\n",
        "obj.methodD()\n"
      ],
      "metadata": {
        "colab": {
          "base_uri": "https://localhost:8080/"
        },
        "id": "XnM56RM4oB8D",
        "outputId": "2e846e8b-e4b7-4155-aaee-394641bc8836"
      },
      "execution_count": 14,
      "outputs": [
        {
          "output_type": "stream",
          "name": "stdout",
          "text": [
            "A\n",
            "B\n",
            "C\n",
            "D\n"
          ]
        }
      ]
    },
    {
      "cell_type": "code",
      "source": [],
      "metadata": {
        "id": "iVLpTKg2ob-O"
      },
      "execution_count": null,
      "outputs": []
    }
  ]
}