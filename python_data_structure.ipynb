{
  "nbformat": 4,
  "nbformat_minor": 0,
  "metadata": {
    "colab": {
      "provenance": []
    },
    "kernelspec": {
      "name": "python3",
      "display_name": "Python 3"
    },
    "language_info": {
      "name": "python"
    }
  },
  "cells": [
    {
      "cell_type": "markdown",
      "source": [
        "**1 What are data structures, and why are they important?**\n",
        "\n",
        "Data structures are ways to organize and store data in a computer so that it can be used efficiently.\n",
        "\n",
        "Why are they important?\n",
        "* Helps find things faster like searching names in a contact list.\n",
        "* Organizes data neatly like stacking books by size or genre.\n",
        "* Improves performance ,saves time and memory.\n",
        "* Makes problem-solving easier like choosing the right tool for a job."
      ],
      "metadata": {
        "id": "lirUxbDGU_hI"
      }
    },
    {
      "cell_type": "markdown",
      "source": [
        "**2 Explain the difference between mutable and immutable data types with examples?**\n",
        "\n",
        "**Ans -**\n",
        "**Mutable:** Can be changed after creation.\n",
        "Examples:\n",
        "list,dictionary,set\n",
        "\n",
        "\n",
        "**Immutable:** Cannot be changed after creation\n",
        "Examples: tuple"
      ],
      "metadata": {
        "id": "GCaEfa1zWVeP"
      }
    },
    {
      "cell_type": "markdown",
      "source": [
        "**3 What are the main differences between lists and tuples in Python?**\n",
        "\n",
        "**Ans -** Main difference between list and tuple is \"tuples are immutable it can not be changed after creation but lists atre mutable which allow user to change inserted data after creation and  also tuple works faster as compare to list.\"\n"
      ],
      "metadata": {
        "id": "Jlv9xYJDWVmT"
      }
    },
    {
      "cell_type": "markdown",
      "source": [
        "**4 Describe how dictionaries store data?**\n",
        "\n",
        "**Ans-** A dictionary in Python stores data as key-value pairs — like a real dictionary."
      ],
      "metadata": {
        "id": "BZlDzsszWVuW"
      }
    },
    {
      "cell_type": "markdown",
      "source": [
        "**5 Why might you use a set instead of a list in Python?**\n",
        "\n",
        "**Ans-**we can use a set instead of a list when we need:\n",
        "* Unique values only (sets automatically remove duplicates)\n",
        "* Faster membership checks (x in set is faster than x in list)"
      ],
      "metadata": {
        "id": "nzKF7yfzZACj"
      }
    },
    {
      "cell_type": "markdown",
      "source": [
        "**6 What is a string in Python, and how is it different from a list?**\n",
        "\n",
        "**Ans-**string is like a list of characters, but you can’t change it after creation."
      ],
      "metadata": {
        "id": "2cA25S7GY2Dj"
      }
    },
    {
      "cell_type": "markdown",
      "source": [
        "**7 How do tuples ensure data integrity in Python?**\n",
        "\n",
        "**Ans-** Tuples are immutable, meaning their values can’t be changed after creation.\n",
        "This protects the data from being accidentally modified so we Use tuples when we want to lock the data to prevent changes."
      ],
      "metadata": {
        "id": "lZ9lA4zMY2Fh"
      }
    },
    {
      "cell_type": "markdown",
      "source": [
        "**8 What is a hash table, and how does it relate to dictionaries in Python?**\n",
        "\n",
        "**Ans-** A hash table is a data structure that stores data using key–value pairs for fast access.\n",
        "In Python, dictionaries are built using hash tables, allowing quick lookups by hashing the keys."
      ],
      "metadata": {
        "id": "mL9bDJt5Y2Hh"
      }
    },
    {
      "cell_type": "markdown",
      "source": [
        "**9 Can lists contain different data types in Python?**\n",
        "\n",
        "**Ans-** Yes, lists in Python can contain different data types in the same list.\n",
        "Example: [1, \"hello\", 3.14, True] is a valid list."
      ],
      "metadata": {
        "id": "F5f-OyFqY2JY"
      }
    },
    {
      "cell_type": "markdown",
      "source": [
        "**10 Explain why strings are immutable in Python?**\n",
        "\n",
        "**Ans-** Strings are immutable in Python to ensure data safety, improve performance, and allow hashing so strings can be used as dictionary keys."
      ],
      "metadata": {
        "id": "YhjEO39UY2Ld"
      }
    },
    {
      "cell_type": "markdown",
      "source": [
        "**11 What advantages do dictionaries offer over lists for certain tasks?**\n",
        "\n",
        "**Ans-**Advantages of Dictionaries over Lists:\n",
        "* Faster lookups: Accessing values by key is quicker than searching through a list.\n",
        "* Key-value pairing: Ideal for storing related data like names and phone numbers.\n",
        "* Clearer code: Makes your data more readable and organized."
      ],
      "metadata": {
        "id": "xUq5dcRpY2Nl"
      }
    },
    {
      "cell_type": "markdown",
      "source": [
        "**12 Describe a scenario where using a tuple would be preferable over a list?**\n",
        "\n",
        "**Ans-**When we need to store fixed, unchangeable data like geographical coordinates (latitude and longitude), a tuple is preferable because its immutable nature ensures that the data cannot be accidentally modified.\n"
      ],
      "metadata": {
        "id": "CKONAKVOY2RL"
      }
    },
    {
      "cell_type": "markdown",
      "source": [
        "**13 How do sets handle duplicate values in Python?**\n",
        "\n",
        "**Ans-**Sets automatically remove duplicate values when we add them, ensuring only unique items are stored.\n",
        "\n",
        "For example: my_set = {1, 2, 2, 3} will result in {1, 2, 3}.\n"
      ],
      "metadata": {
        "id": "e_0m8dhUeZ2x"
      }
    },
    {
      "cell_type": "markdown",
      "source": [
        "**14 How does the “in” keyword work differently for lists and dictionaries?**\n",
        "\n",
        "**Ans-** In lists, the **in** keyword checks if a value exists in the list.\n",
        "In dictionaries, it checks if a key exists in the dictionary.\n",
        "\n"
      ],
      "metadata": {
        "id": "ij3y1_CVeZXD"
      }
    },
    {
      "cell_type": "markdown",
      "source": [
        "**15 Can you modify the elements of a tuple? Explain why or why not?**\n",
        "\n",
        "**Ans-** No, we cannot modify the elements of a tuple because tuples are immutable, meaning their values cannot be changed after creation to ensure data integrity.\n"
      ],
      "metadata": {
        "id": "NcX5IE6tgLzy"
      }
    },
    {
      "cell_type": "markdown",
      "source": [
        "**16 What is a nested dictionary, and give an example of its use case?**\n",
        "\n",
        "**Ans-**A nested dictionary is a dictionary where the values are other dictionaries. It’s useful for organizing hierarchical data.This structure helps represent complex relationships like employees within departments or products in a category.\n",
        "\n"
      ],
      "metadata": {
        "id": "vNgYi1vkgLu9"
      }
    },
    {
      "cell_type": "markdown",
      "source": [
        "**17 Describe the time complexity of accessing elements in a dictionary?**\n",
        "\n",
        "**Ans-** The time complexity of accessing elements in a dictionary is O(1), meaning it takes constant time regardless of the size of the dictionary, due to the hash table structure used for key lookups.\n",
        "\n"
      ],
      "metadata": {
        "id": "Laga5OhNgLpm"
      }
    },
    {
      "cell_type": "markdown",
      "source": [
        "**18 In what situations are lists preferred over dictionaries?**\n",
        "\n",
        "**Ans-**Lists are preferred over dictionaries when you need an ordered collection of items, or when you need to access elements by index rather than by key. They are ideal for maintaining sequences of data."
      ],
      "metadata": {
        "id": "DLN4T76tgLmJ"
      }
    },
    {
      "cell_type": "markdown",
      "source": [
        "**19 Why are dictionaries considered unordered, and how does that affect data retrieval?**\n",
        "\n",
        "**Ans-**Dictionaries are considered unordered because the key-value pairs are stored in a hash table rather than a sequential order. This means that the order of items is not guaranteed, but it doesn't affect data retrieval, as keys can still be accessed in constant time (O(1)) using the hash."
      ],
      "metadata": {
        "id": "PgNQ-ycKgLij"
      }
    },
    {
      "cell_type": "markdown",
      "source": [
        "**20 Explain the difference between a list and a dictionary in terms of data retrieval?**\n",
        "\n",
        "**Ans-**In a list, data is retrieved by its index, which is an integer value representing its position. In a dictionary, data is retrieved by its key, which can be any immutable object (like strings, numbers, or tuples)."
      ],
      "metadata": {
        "id": "FCl9dljohcV5"
      }
    },
    {
      "cell_type": "markdown",
      "source": [
        "**Practical Questions**"
      ],
      "metadata": {
        "id": "gI8dPsKLheMf"
      }
    },
    {
      "cell_type": "code",
      "source": [
        "#Write a code to create a string with your name and print it?\n",
        "name='Nikita'\n",
        "name"
      ],
      "metadata": {
        "colab": {
          "base_uri": "https://localhost:8080/",
          "height": 36
        },
        "id": "-LTbUheAh_zQ",
        "outputId": "fe864558-7abd-4bc5-ca71-5ca825012cf0"
      },
      "execution_count": 3,
      "outputs": [
        {
          "output_type": "execute_result",
          "data": {
            "text/plain": [
              "'Nikita'"
            ],
            "application/vnd.google.colaboratory.intrinsic+json": {
              "type": "string"
            }
          },
          "metadata": {},
          "execution_count": 3
        }
      ]
    },
    {
      "cell_type": "code",
      "source": [
        "#Write a code to find the length of the string \"Hello World\"?\n",
        "my_str=\"Hello World\"\n",
        "len(my_str)"
      ],
      "metadata": {
        "colab": {
          "base_uri": "https://localhost:8080/"
        },
        "id": "BoIOoKs8iTX6",
        "outputId": "8230864a-2656-4471-d565-33169dea706c"
      },
      "execution_count": 4,
      "outputs": [
        {
          "output_type": "execute_result",
          "data": {
            "text/plain": [
              "11"
            ]
          },
          "metadata": {},
          "execution_count": 4
        }
      ]
    },
    {
      "cell_type": "code",
      "source": [
        "#Write a code to slice the first 3 characters from the string \"Python Programming\"?\n",
        "str1= \"Python Programming\"\n",
        "str1[:3]"
      ],
      "metadata": {
        "colab": {
          "base_uri": "https://localhost:8080/",
          "height": 36
        },
        "id": "zzD1__n0ijSK",
        "outputId": "f21ec9be-21ac-4ce8-c3bc-a9c02846b70b"
      },
      "execution_count": 6,
      "outputs": [
        {
          "output_type": "execute_result",
          "data": {
            "text/plain": [
              "'Pyt'"
            ],
            "application/vnd.google.colaboratory.intrinsic+json": {
              "type": "string"
            }
          },
          "metadata": {},
          "execution_count": 6
        }
      ]
    },
    {
      "cell_type": "code",
      "source": [
        "#Write a code to convert the string \"hello\" to uppercase?\n",
        "str2=\"hello\"\n",
        "str2.upper()"
      ],
      "metadata": {
        "colab": {
          "base_uri": "https://localhost:8080/",
          "height": 36
        },
        "id": "p-O-XiNnixpg",
        "outputId": "f8f66346-38b8-46c3-89d1-1106c90c0abe"
      },
      "execution_count": 7,
      "outputs": [
        {
          "output_type": "execute_result",
          "data": {
            "text/plain": [
              "'HELLO'"
            ],
            "application/vnd.google.colaboratory.intrinsic+json": {
              "type": "string"
            }
          },
          "metadata": {},
          "execution_count": 7
        }
      ]
    },
    {
      "cell_type": "code",
      "source": [
        "#Write a code to replace the word \"apple\" with \"orange\" in the string \"I like apple\"?\n",
        "str_1=\"I like apple\"\n",
        "str_1.replace('apple','orange')"
      ],
      "metadata": {
        "colab": {
          "base_uri": "https://localhost:8080/",
          "height": 36
        },
        "id": "kh0uA3t8ixmC",
        "outputId": "3a0c29d4-6a46-497b-de83-db23eecdb21d"
      },
      "execution_count": 8,
      "outputs": [
        {
          "output_type": "execute_result",
          "data": {
            "text/plain": [
              "'I like orange'"
            ],
            "application/vnd.google.colaboratory.intrinsic+json": {
              "type": "string"
            }
          },
          "metadata": {},
          "execution_count": 8
        }
      ]
    },
    {
      "cell_type": "code",
      "source": [
        "#Write a code to create a list with numbers 1 to 5 and print it?\n",
        "lst_1=[1,2,3,4,5]\n",
        "lst_1"
      ],
      "metadata": {
        "colab": {
          "base_uri": "https://localhost:8080/"
        },
        "id": "ycKIz1ulixi8",
        "outputId": "293dea45-687a-45a9-dcd6-baee2f54e5ac"
      },
      "execution_count": 9,
      "outputs": [
        {
          "output_type": "execute_result",
          "data": {
            "text/plain": [
              "[1, 2, 3, 4, 5]"
            ]
          },
          "metadata": {},
          "execution_count": 9
        }
      ]
    },
    {
      "cell_type": "code",
      "source": [
        "#Write a code to append the number 10 to the list [1, 2, 3, 4]?\n",
        "lst_2=[1,2,3,4,5]\n",
        "lst_2.append(10)\n",
        "lst_2"
      ],
      "metadata": {
        "colab": {
          "base_uri": "https://localhost:8080/"
        },
        "id": "9ipjFRYLixgF",
        "outputId": "21691ace-07d3-4fd7-9828-5f478176cbe9"
      },
      "execution_count": 10,
      "outputs": [
        {
          "output_type": "execute_result",
          "data": {
            "text/plain": [
              "[1, 2, 3, 4, 5, 10]"
            ]
          },
          "metadata": {},
          "execution_count": 10
        }
      ]
    },
    {
      "cell_type": "code",
      "source": [
        "#Write a code to remove the number 3 from the list [1, 2, 3, 4, 5]?\n",
        "lst_3=[1,2,3,4,5]\n",
        "lst_3.remove(3)\n",
        "lst_3"
      ],
      "metadata": {
        "colab": {
          "base_uri": "https://localhost:8080/"
        },
        "id": "0j1DRXuMixc-",
        "outputId": "71903688-1029-43e4-8300-3aeed1ef0e4b"
      },
      "execution_count": 11,
      "outputs": [
        {
          "output_type": "execute_result",
          "data": {
            "text/plain": [
              "[1, 2, 4, 5]"
            ]
          },
          "metadata": {},
          "execution_count": 11
        }
      ]
    },
    {
      "cell_type": "code",
      "source": [
        "#Write a code to access the second element in the list ['a', 'b', 'c', 'd']?\n",
        "lst_4=['a', 'b', 'c', 'd']\n",
        "lst_4[1]"
      ],
      "metadata": {
        "colab": {
          "base_uri": "https://localhost:8080/",
          "height": 36
        },
        "id": "uJksO7XzkMvw",
        "outputId": "c15b6fd7-3634-44fe-fee7-c65c332b7952"
      },
      "execution_count": 12,
      "outputs": [
        {
          "output_type": "execute_result",
          "data": {
            "text/plain": [
              "'b'"
            ],
            "application/vnd.google.colaboratory.intrinsic+json": {
              "type": "string"
            }
          },
          "metadata": {},
          "execution_count": 12
        }
      ]
    },
    {
      "cell_type": "code",
      "source": [
        "#Write a code to reverse the list [10, 20, 30, 40, 50]?\n",
        "lst_5=[10, 20, 30, 40, 50]\n",
        "lst_5[::-1]"
      ],
      "metadata": {
        "colab": {
          "base_uri": "https://localhost:8080/"
        },
        "id": "0217-wQ-kMsS",
        "outputId": "921fb44c-9f9b-43f8-8f92-a1f27d14483e"
      },
      "execution_count": 13,
      "outputs": [
        {
          "output_type": "execute_result",
          "data": {
            "text/plain": [
              "[50, 40, 30, 20, 10]"
            ]
          },
          "metadata": {},
          "execution_count": 13
        }
      ]
    },
    {
      "cell_type": "code",
      "source": [
        "#Write a code to create a tuple with the elements 100, 200, 300 and print it?\n",
        "tup=(100,200,300)\n",
        "tup"
      ],
      "metadata": {
        "colab": {
          "base_uri": "https://localhost:8080/"
        },
        "id": "v0JrI0ackMqC",
        "outputId": "022a28e2-cd17-4564-a0f2-1b508815d6d8"
      },
      "execution_count": 14,
      "outputs": [
        {
          "output_type": "execute_result",
          "data": {
            "text/plain": [
              "(100, 200, 300)"
            ]
          },
          "metadata": {},
          "execution_count": 14
        }
      ]
    },
    {
      "cell_type": "code",
      "source": [
        "#Write a code to access the second-to-last element of the tuple ('red', 'green', 'blue', 'yellow')?\n",
        "tup_1=('red', 'green', 'blue', 'yellow')\n",
        "tup_1[-2]"
      ],
      "metadata": {
        "colab": {
          "base_uri": "https://localhost:8080/",
          "height": 36
        },
        "id": "yzAP_VADkMn1",
        "outputId": "08018403-1a1b-4e87-8827-38833e899bbf"
      },
      "execution_count": 15,
      "outputs": [
        {
          "output_type": "execute_result",
          "data": {
            "text/plain": [
              "'blue'"
            ],
            "application/vnd.google.colaboratory.intrinsic+json": {
              "type": "string"
            }
          },
          "metadata": {},
          "execution_count": 15
        }
      ]
    },
    {
      "cell_type": "code",
      "source": [
        "#Write a code to find the minimum number in the tuple (10, 20, 5, 15)?\n",
        "tup_2=(10, 20, 5, 15)\n",
        "min(tup_2)"
      ],
      "metadata": {
        "colab": {
          "base_uri": "https://localhost:8080/"
        },
        "id": "IzvMh-86kMlz",
        "outputId": "62e82632-be35-44ab-e662-0e92def6e3d0"
      },
      "execution_count": 16,
      "outputs": [
        {
          "output_type": "execute_result",
          "data": {
            "text/plain": [
              "5"
            ]
          },
          "metadata": {},
          "execution_count": 16
        }
      ]
    },
    {
      "cell_type": "code",
      "source": [
        "#Write a code to find the index of the element \"cat\" in the tuple ('dog', 'cat', 'rabbit')?\n",
        "animal=('dog', 'cat', 'rabbit')\n",
        "animal.index('cat')\n"
      ],
      "metadata": {
        "colab": {
          "base_uri": "https://localhost:8080/"
        },
        "id": "iyw5US6EkMjn",
        "outputId": "7b9cfd8e-99d5-432e-a28d-47557dc1554a"
      },
      "execution_count": 18,
      "outputs": [
        {
          "output_type": "execute_result",
          "data": {
            "text/plain": [
              "1"
            ]
          },
          "metadata": {},
          "execution_count": 18
        }
      ]
    },
    {
      "cell_type": "code",
      "source": [
        "#Write a code to create a tuple containing three different fruits and check if \"kiwi\" is in it.\n",
        "fruit=('banana','orange','kiwi')\n",
        "'kiwi' in fruit"
      ],
      "metadata": {
        "colab": {
          "base_uri": "https://localhost:8080/"
        },
        "id": "bl_kcttMkMha",
        "outputId": "d3b88faa-5625-419b-8afb-64629d706ae9"
      },
      "execution_count": 21,
      "outputs": [
        {
          "output_type": "execute_result",
          "data": {
            "text/plain": [
              "True"
            ]
          },
          "metadata": {},
          "execution_count": 21
        }
      ]
    },
    {
      "cell_type": "code",
      "source": [
        "#Write a code to create a set with the elements 'a', 'b', 'c' and print it.\n",
        "st={'a', 'b', 'c'}\n",
        "st"
      ],
      "metadata": {
        "colab": {
          "base_uri": "https://localhost:8080/"
        },
        "id": "m2jc3D82mpBB",
        "outputId": "940a46ad-6504-4b92-b5d8-a23d9f76be8d"
      },
      "execution_count": 20,
      "outputs": [
        {
          "output_type": "execute_result",
          "data": {
            "text/plain": [
              "{'a', 'b', 'c'}"
            ]
          },
          "metadata": {},
          "execution_count": 20
        }
      ]
    },
    {
      "cell_type": "code",
      "source": [
        "#Write a code to clear all elements from the set {1, 2, 3, 4, 5}.\n",
        "st_1={1, 2, 3, 4, 5}\n",
        "st_1.clear()\n",
        "st_1"
      ],
      "metadata": {
        "colab": {
          "base_uri": "https://localhost:8080/"
        },
        "id": "7Mv8qt8cmo6g",
        "outputId": "bfb85e7a-a92b-4b5e-c769-de562c65efd6"
      },
      "execution_count": 23,
      "outputs": [
        {
          "output_type": "execute_result",
          "data": {
            "text/plain": [
              "set()"
            ]
          },
          "metadata": {},
          "execution_count": 23
        }
      ]
    },
    {
      "cell_type": "code",
      "source": [
        "#Write a code to remove the element 4 from the set {1, 2, 3, 4}.\n",
        "st_2={1, 2, 3, 4}\n",
        "st_2.remove(4)\n",
        "st_2"
      ],
      "metadata": {
        "colab": {
          "base_uri": "https://localhost:8080/"
        },
        "id": "_1sEunPMmo26",
        "outputId": "87d2bb89-e9d7-4421-8ea5-2b5ff4f40d7d"
      },
      "execution_count": 24,
      "outputs": [
        {
          "output_type": "execute_result",
          "data": {
            "text/plain": [
              "{1, 2, 3}"
            ]
          },
          "metadata": {},
          "execution_count": 24
        }
      ]
    },
    {
      "cell_type": "code",
      "source": [
        "#Write a code to find the union of two sets {1, 2, 3} and {3, 4, 5}.\n",
        "st_3={1, 2, 3}\n",
        "st_4={3, 4, 5}\n",
        "st_3.union(st_4)"
      ],
      "metadata": {
        "colab": {
          "base_uri": "https://localhost:8080/"
        },
        "id": "LlY5cOkAmoz-",
        "outputId": "aacbc80c-65bf-409b-8372-8f343b24f2e7"
      },
      "execution_count": 25,
      "outputs": [
        {
          "output_type": "execute_result",
          "data": {
            "text/plain": [
              "{1, 2, 3, 4, 5}"
            ]
          },
          "metadata": {},
          "execution_count": 25
        }
      ]
    },
    {
      "cell_type": "code",
      "source": [
        "#Write a code to find the union of two sets {1, 2, 3} and {3, 4, 5}.\n",
        "st_5={1, 2, 3}\n",
        "st_6={3, 4, 5}\n",
        "st_5.intersection(st_6)"
      ],
      "metadata": {
        "colab": {
          "base_uri": "https://localhost:8080/"
        },
        "id": "uotsL6FnmoxM",
        "outputId": "16ac2dff-6378-4b0e-daa5-f35c1a541427"
      },
      "execution_count": 26,
      "outputs": [
        {
          "output_type": "execute_result",
          "data": {
            "text/plain": [
              "{3}"
            ]
          },
          "metadata": {},
          "execution_count": 26
        }
      ]
    },
    {
      "cell_type": "code",
      "source": [
        "#Write a code to create a dictionary with the keys \"name\", \"age\", and \"city\", and print it.\n",
        "dic={'name':'Nikita','age':20,'city':'Mumbai'}\n",
        "dic"
      ],
      "metadata": {
        "colab": {
          "base_uri": "https://localhost:8080/"
        },
        "id": "1LbBNRDInwVf",
        "outputId": "e7115ee1-cab8-4f2e-8d37-9bd9a29b9a31"
      },
      "execution_count": 27,
      "outputs": [
        {
          "output_type": "execute_result",
          "data": {
            "text/plain": [
              "{'name': 'Nikita', 'age': 20, 'city': 'Mumbai'}"
            ]
          },
          "metadata": {},
          "execution_count": 27
        }
      ]
    },
    {
      "cell_type": "code",
      "source": [
        "#22. Write a code to add a new key-value pair \"country\": \"USA\" to the dictionary {'name': 'John', 'age': 25}.\n",
        "dic_1={'name': 'John', 'age': 25}\n",
        "dic_1['country']='USA'\n",
        "dic_1"
      ],
      "metadata": {
        "colab": {
          "base_uri": "https://localhost:8080/"
        },
        "id": "FNn9O30TnwSE",
        "outputId": "be0295d3-4b6e-406d-d7cc-7d866bbae1c1"
      },
      "execution_count": 28,
      "outputs": [
        {
          "output_type": "execute_result",
          "data": {
            "text/plain": [
              "{'name': 'John', 'age': 25, 'country': 'USA'}"
            ]
          },
          "metadata": {},
          "execution_count": 28
        }
      ]
    },
    {
      "cell_type": "code",
      "source": [
        "#23. Write a code to access the value associated with the key \"name\" in the dictionary {'name': 'Alice', 'age': 30}.\n",
        "dic_2={'name': 'Alice', 'age': 30}\n",
        "dic_2['name']"
      ],
      "metadata": {
        "colab": {
          "base_uri": "https://localhost:8080/",
          "height": 36
        },
        "id": "bYm_b133nwQG",
        "outputId": "4c9cae7c-81a4-4fc9-bda2-202afd301cb7"
      },
      "execution_count": 29,
      "outputs": [
        {
          "output_type": "execute_result",
          "data": {
            "text/plain": [
              "'Alice'"
            ],
            "application/vnd.google.colaboratory.intrinsic+json": {
              "type": "string"
            }
          },
          "metadata": {},
          "execution_count": 29
        }
      ]
    },
    {
      "cell_type": "code",
      "source": [
        "#24. Write a code to remove the key \"age\" from the dictionary {'name': 'Bob', 'age': 22, 'city': 'New York'}.\n",
        "dic_3={'name': 'Bob', 'age': 22, 'city': 'New York'}\n",
        "dic_3.pop('age')\n",
        "dic_3"
      ],
      "metadata": {
        "colab": {
          "base_uri": "https://localhost:8080/"
        },
        "id": "hZALzoSXnwN-",
        "outputId": "8547deef-4950-45b9-9b49-4d778be300c4"
      },
      "execution_count": 30,
      "outputs": [
        {
          "output_type": "execute_result",
          "data": {
            "text/plain": [
              "{'name': 'Bob', 'city': 'New York'}"
            ]
          },
          "metadata": {},
          "execution_count": 30
        }
      ]
    },
    {
      "cell_type": "code",
      "source": [
        "#25. Write a code to check if the key \"city\" exists in the dictionary {'name': 'Alice', 'city': 'Paris'}.\n",
        "person = {'name': 'Alice', 'city': 'Paris'}\n",
        "print(\"city\" in person)"
      ],
      "metadata": {
        "colab": {
          "base_uri": "https://localhost:8080/"
        },
        "id": "zwo2aDEInwLz",
        "outputId": "d4ed664a-8fb6-463e-f0c3-f7eb2adcd7bb"
      },
      "execution_count": 31,
      "outputs": [
        {
          "output_type": "stream",
          "name": "stdout",
          "text": [
            "True\n"
          ]
        }
      ]
    },
    {
      "cell_type": "code",
      "source": [
        "#26. Write a code to create a list, a tuple, and a dictionary, and print them all.\n",
        "# list\n",
        "my_list = [1, 2, 3]\n",
        "\n",
        "# tuple\n",
        "my_tuple = ('apple', 'banana', 'cherry')\n",
        "\n",
        "# dictionary\n",
        "my_dict = {'name': 'Nikita', 'age': 25}\n",
        "\n",
        "# Printing all\n",
        "print(\"List:\", my_list)\n",
        "print(\"Tuple:\", my_tuple)\n",
        "print(\"Dictionary:\", my_dict)"
      ],
      "metadata": {
        "colab": {
          "base_uri": "https://localhost:8080/"
        },
        "id": "Rvwgc1aardri",
        "outputId": "0a7eae2c-b650-4516-dea7-a2695f2f5555"
      },
      "execution_count": 33,
      "outputs": [
        {
          "output_type": "stream",
          "name": "stdout",
          "text": [
            "List: [1, 2, 3]\n",
            "Tuple: ('apple', 'banana', 'cherry')\n",
            "Dictionary: {'name': 'Nikita', 'age': 25}\n"
          ]
        }
      ]
    },
    {
      "cell_type": "code",
      "source": [
        "#27. Write a code to create a list of 5 random numbers between 1 and 100, sort it in ascending order, and print the result.(replaced)\n",
        "import random\n",
        "random_numbers = random.sample(range(1, 101), 5)\n",
        "random_numbers.sort()\n",
        "random_numbers"
      ],
      "metadata": {
        "colab": {
          "base_uri": "https://localhost:8080/"
        },
        "id": "X4HPtIttrlCa",
        "outputId": "c04e0c41-a099-46b1-9a81-d660d229a697"
      },
      "execution_count": 34,
      "outputs": [
        {
          "output_type": "execute_result",
          "data": {
            "text/plain": [
              "[28, 40, 41, 79, 99]"
            ]
          },
          "metadata": {},
          "execution_count": 34
        }
      ]
    },
    {
      "cell_type": "code",
      "source": [
        "#28. Write a code to create a list with strings and print the element at the third index.\n",
        "my_list = ['apple', 'banana', 'cherry', 'date', 'elderberry']\n",
        "my_list[2]"
      ],
      "metadata": {
        "colab": {
          "base_uri": "https://localhost:8080/",
          "height": 36
        },
        "id": "THlr26-Ark4C",
        "outputId": "1a57a50a-cfd0-40eb-c126-afae8ee4b33e"
      },
      "execution_count": 36,
      "outputs": [
        {
          "output_type": "execute_result",
          "data": {
            "text/plain": [
              "'cherry'"
            ],
            "application/vnd.google.colaboratory.intrinsic+json": {
              "type": "string"
            }
          },
          "metadata": {},
          "execution_count": 36
        }
      ]
    },
    {
      "cell_type": "code",
      "source": [
        "#29. Write a code to combine two dictionaries into one and print the result.\n",
        "dict1 = {'a': 1, 'b': 2}\n",
        "dict2 = {'c': 3, 'd': 4}\n",
        "dict1.update(dict2)\n",
        "dict1"
      ],
      "metadata": {
        "colab": {
          "base_uri": "https://localhost:8080/"
        },
        "id": "-ufrMVbXs47f",
        "outputId": "2fc77269-85a4-4d87-a487-776d41f907a7"
      },
      "execution_count": 37,
      "outputs": [
        {
          "output_type": "execute_result",
          "data": {
            "text/plain": [
              "{'a': 1, 'b': 2, 'c': 3, 'd': 4}"
            ]
          },
          "metadata": {},
          "execution_count": 37
        }
      ]
    },
    {
      "cell_type": "code",
      "source": [
        "#30. Write a code to convert a list of strings into a set.\n",
        "my_list = ['apple', 'banana', 'cherry', 'apple', 'banana']\n",
        "my_set = set(my_list)\n",
        "my_set"
      ],
      "metadata": {
        "colab": {
          "base_uri": "https://localhost:8080/"
        },
        "id": "0E5H5HhZs4Yz",
        "outputId": "4dc3345a-7cd0-475c-efb0-1d0736f22e1d"
      },
      "execution_count": 38,
      "outputs": [
        {
          "output_type": "execute_result",
          "data": {
            "text/plain": [
              "{'apple', 'banana', 'cherry'}"
            ]
          },
          "metadata": {},
          "execution_count": 38
        }
      ]
    },
    {
      "cell_type": "markdown",
      "source": [],
      "metadata": {
        "id": "fS5NcUGJheA5"
      }
    }
  ]
}