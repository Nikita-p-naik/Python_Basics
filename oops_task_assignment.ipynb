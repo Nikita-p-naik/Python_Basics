{
  "nbformat": 4,
  "nbformat_minor": 0,
  "metadata": {
    "colab": {
      "provenance": []
    },
    "kernelspec": {
      "name": "python3",
      "display_name": "Python 3"
    },
    "language_info": {
      "name": "python"
    }
  },
  "cells": [
    {
      "cell_type": "markdown",
      "source": [
        "Q1. Create a vehicle class with an __init__ method having instance variables as name_of_vehicle, max_speed, and average_of_vehicle?"
      ],
      "metadata": {
        "id": "p7t54AompsRC"
      }
    },
    {
      "cell_type": "code",
      "execution_count": 2,
      "metadata": {
        "id": "xWQhEdbCprRX"
      },
      "outputs": [],
      "source": [
        "class Vehicle:\n",
        "    def __init__(self, vehicle_name, max_speed, average):\n",
        "        self.vehicle_name = vehicle_name\n",
        "        self.max_speed = max_speed\n",
        "        self.average = average\n"
      ]
    },
    {
      "cell_type": "markdown",
      "source": [
        "Q2. Create a child class Car from the Vehicle class which will inherit the Vehicle class. Create a method named seating_capacity which takes capacity as an argument and returns the name of the vehicle and its seating capacity?"
      ],
      "metadata": {
        "id": "gmalVdouqLrC"
      }
    },
    {
      "cell_type": "code",
      "source": [
        "class Car(Vehicle):\n",
        "    def seating_capacity(self, capacity):\n",
        "        return f\"{self.vehicle_name} has a seating capacity of {capacity} passengers.\"\n",
        "\n",
        "# Example usage\n",
        "c = Car(\"Swift Dezire\", 180, 18)\n",
        "print(c.seating_capacity(5))\n"
      ],
      "metadata": {
        "colab": {
          "base_uri": "https://localhost:8080/"
        },
        "id": "SFW30dw1p56L",
        "outputId": "be3fc771-1761-47a2-a6bc-47115e2757f9"
      },
      "execution_count": 4,
      "outputs": [
        {
          "output_type": "stream",
          "name": "stdout",
          "text": [
            "Swift Dezire has a seating capacity of 5 passengers.\n"
          ]
        }
      ]
    },
    {
      "cell_type": "markdown",
      "source": [
        "Q3. What is multiple inheritance? Write a Python code to demonstrate multiple inheritance?\n",
        "* Multiple Inheritance: When a class inherits from more than one parent class."
      ],
      "metadata": {
        "id": "ZcUzBW24qh95"
      }
    },
    {
      "cell_type": "code",
      "source": [
        "class Engine:\n",
        "    def engine_info(self):\n",
        "        print(\"This is an engine.\")\n",
        "\n",
        "class Body:\n",
        "    def body_info(self):\n",
        "        print(\"This is a car body.\")\n",
        "\n",
        "class Car(Engine, Body):\n",
        "    def car_info(self):\n",
        "        print(\"This is a car.\")\n",
        "\n",
        "# Example usage\n",
        "c = Car()\n",
        "c.engine_info()\n",
        "c.body_info()\n",
        "c.car_info()\n"
      ],
      "metadata": {
        "colab": {
          "base_uri": "https://localhost:8080/"
        },
        "id": "IGQP9MAcqVSY",
        "outputId": "d29c8354-f011-412c-bdb1-340b1465925c"
      },
      "execution_count": 5,
      "outputs": [
        {
          "output_type": "stream",
          "name": "stdout",
          "text": [
            "This is an engine.\n",
            "This is a car body.\n",
            "This is a car.\n"
          ]
        }
      ]
    },
    {
      "cell_type": "markdown",
      "source": [
        "Q4. What are getter and setter in Python? Create a class and create a getter and a setter method in this class.\n",
        "* Getter: Used to get the value of a private attribute.\n",
        "* Setter: Used to set/update the value of a private attribute."
      ],
      "metadata": {
        "id": "cBMpxOx0qxZx"
      }
    },
    {
      "cell_type": "code",
      "source": [
        "class Person:\n",
        "    def __init__(self, name):\n",
        "        self.__name = name\n",
        "\n",
        "    # Getter method\n",
        "    def get_name(self):\n",
        "        return self.__name\n",
        "\n",
        "    # Setter method\n",
        "    def set_name(self, new_name):\n",
        "        self.__name = new_name\n",
        "\n",
        "# Example usage\n",
        "p = Person(\"Nikita\")\n",
        "print(p.get_name())  # Getter\n",
        "p.set_name(\"Sharvani\")  # Setter\n",
        "print(p.get_name())\n"
      ],
      "metadata": {
        "colab": {
          "base_uri": "https://localhost:8080/"
        },
        "id": "LMrMg8teqt9R",
        "outputId": "67fbc05d-9249-4571-ca05-71c3d6b1f287"
      },
      "execution_count": 6,
      "outputs": [
        {
          "output_type": "stream",
          "name": "stdout",
          "text": [
            "Nikita\n",
            "Sharvani\n"
          ]
        }
      ]
    },
    {
      "cell_type": "markdown",
      "source": [
        "Q5. What is method overriding in Python? Write a Python code to demonstrate method overriding?\n",
        "* Method Overriding: When a child class defines a method with the same name as a method in the parent class, the child class's method overrides the parent class's method."
      ],
      "metadata": {
        "id": "KXcLwo0arBPq"
      }
    },
    {
      "cell_type": "code",
      "source": [
        "class Animal:\n",
        "    def sound(self):\n",
        "        print(\"Animals make different sounds\")\n",
        "\n",
        "class Dog(Animal):\n",
        "    def sound(self):\n",
        "        print(\"Dog barks\")\n",
        "\n",
        "a = Animal()\n",
        "d = Dog()\n",
        "\n",
        "a.sound()\n",
        "d.sound()"
      ],
      "metadata": {
        "colab": {
          "base_uri": "https://localhost:8080/"
        },
        "id": "fxvt0PQgq4np",
        "outputId": "42858fd5-15bc-43d8-9fc5-35c213c1ebde"
      },
      "execution_count": 7,
      "outputs": [
        {
          "output_type": "stream",
          "name": "stdout",
          "text": [
            "Animals make different sounds\n",
            "Dog barks\n"
          ]
        }
      ]
    },
    {
      "cell_type": "code",
      "source": [],
      "metadata": {
        "id": "aHfaxBGFrMLG"
      },
      "execution_count": null,
      "outputs": []
    }
  ]
}